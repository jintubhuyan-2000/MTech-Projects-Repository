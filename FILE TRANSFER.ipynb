{
 "cells": [
  {
   "cell_type": "code",
   "execution_count": 4,
   "id": "139c0b65",
   "metadata": {},
   "outputs": [
    {
     "name": "stdout",
     "output_type": "stream",
     "text": [
      "Copied GLCM_contrast_2000.tif.tif to D:\\Jintu\\Jintu_LULC\\13Dec_2023\\CONTRAST\n"
     ]
    }
   ],
   "source": [
    "import os\n",
    "import shutil\n",
    "\n",
    "# Source directory where the files are located\n",
    "source_directory = r'D:/Jintu/Jintu_ShareFolder/13_Dec_2023/GEEGLCM-20231213T095428Z-001/GEEGLCM'\n",
    "\n",
    "# Destination directories based on file names\n",
    "destinations = {\n",
    "    'EVI': r'D:\\Jintu\\Jintu_LULC\\13Dec_2023\\EVI',\n",
    "    'NDWI': r'D:\\Jintu\\Jintu_LULC\\13Dec_2023\\NDWI',\n",
    "    'NDVI': r'D:\\Jintu\\Jintu_LULC\\13Dec_2023\\NDVI',\n",
    "    'CONTRAST': r'D:\\Jintu\\Jintu_LULC\\13Dec_2023\\CONTRAST',\n",
    "    'BLUE': r'D:\\Jintu\\Jintu_LULC\\13Dec_2023\\BLUE',\n",
    "    'CORRELATION': r'D:\\Jintu\\Jintu_LULC\\13Dec_2023\\CORRELATION',\n",
    "    'DISSIMILARITY': r'D:\\Jintu\\Jintu_LULC\\13Dec_2023\\DISSIMILARITY',\n",
    "    'GREEN': r'D:\\Jintu\\Jintu_LULC\\13Dec_2023\\GREEN',\n",
    "    'NIR': r'D:\\Jintu\\Jintu_LULC\\13Dec_2023\\NIR',\n",
    "    'RED': r'D:\\Jintu\\Jintu_LULC\\13Dec_2023\\RED',\n",
    "    'SWIR': r'D:\\Jintu\\Jintu_LULC\\13Dec_2023\\SWIR',\n",
    "    'TIRS': r'D:\\Jintu\\Jintu_LULC\\13Dec_2023\\TIRS',\n",
    "}\n",
    "\n",
    "# Iterate over files in the source directory\n",
    "for filename in os.listdir(source_directory):\n",
    "    # Check if the filename contains any of the specified keywords\n",
    "    for keyword, destination in destinations.items():\n",
    "        if keyword.lower() in filename.lower():\n",
    "            # Construct the full source and destination paths\n",
    "            source_path = os.path.join(source_directory, filename)\n",
    "            destination_path = os.path.join(destination, filename)\n",
    "            \n",
    "            # Copy the file to the destination directory\n",
    "            shutil.copy(source_path, destination_path)\n",
    "            \n",
    "            # Print a message indicating the file has been copied\n",
    "            print(f'Copied {filename} to {destination}')\n"
   ]
  }
 ],
 "metadata": {
  "kernelspec": {
   "display_name": "Python 3 (ipykernel)",
   "language": "python",
   "name": "python3"
  },
  "language_info": {
   "codemirror_mode": {
    "name": "ipython",
    "version": 3
   },
   "file_extension": ".py",
   "mimetype": "text/x-python",
   "name": "python",
   "nbconvert_exporter": "python",
   "pygments_lexer": "ipython3",
   "version": "3.11.5"
  }
 },
 "nbformat": 4,
 "nbformat_minor": 5
}
